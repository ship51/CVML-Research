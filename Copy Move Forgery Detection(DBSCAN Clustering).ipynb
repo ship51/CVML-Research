{
 "cells": [
  {
   "cell_type": "markdown",
   "id": "86f942a5-8400-470a-9b1d-9d7918107b6b",
   "metadata": {},
   "source": [
    "## Copy Move Forgery Detection(DBSCAN Clustering)"
   ]
  },
  {
   "cell_type": "markdown",
   "id": "c1135dfd-5ca2-4b9c-b8d9-412f861cb923",
   "metadata": {},
   "source": [
    "This is an implementation to detect Copy move forgery detection using DBSCAN clustering using OpenCV and sklearn. This technique can be used to detect a forgery in many cases. However, the detection accuracy is not the best and can be improved further by other techniques."
   ]
  },
  {
   "cell_type": "code",
   "execution_count": 3,
   "id": "94fa6a0d-6f80-4196-906c-f81548742e02",
   "metadata": {},
   "outputs": [
    {
     "name": "stdout",
     "output_type": "stream",
     "text": [
      "CoMoFoD using DBSCAN Clustering\n"
     ]
    }
   ],
   "source": [
    "print(\"CoMoFoD using DBSCAN Clustering\")"
   ]
  },
  {
   "cell_type": "markdown",
   "id": "4c8cad60-dd50-439f-861c-c931799d7b75",
   "metadata": {},
   "source": [
    "Installing OpenCV library for processing images"
   ]
  },
  {
   "cell_type": "code",
   "execution_count": 6,
   "id": "83828ad1-b0ff-406f-9941-7ea66f7d92a9",
   "metadata": {},
   "outputs": [
    {
     "name": "stdout",
     "output_type": "stream",
     "text": [
      "Collecting opencv-python\n",
      "  Downloading opencv_python-4.5.2.54-cp39-cp39-win_amd64.whl (34.7 MB)\n",
      "Requirement already satisfied: numpy>=1.19.3 in c:\\users\\shiva\\miniconda3\\lib\\site-packages (from opencv-python) (1.19.5)\n",
      "Installing collected packages: opencv-python\n",
      "Successfully installed opencv-python-4.5.2.54\n"
     ]
    }
   ],
   "source": [
    "!pip install opencv-python"
   ]
  },
  {
   "cell_type": "markdown",
   "id": "c289eae8-45fc-4a6e-88db-6c62a422471d",
   "metadata": {},
   "source": [
    "\n",
    "Installing an older version of opencv to use cv2.xfeatures2d.SIFT_create() \n",
    "\n",
    "SIFT features extraction is moved from OpenCV as SIFT is patented. Downgraded OpenCV to use SIFT function in opencv."
   ]
  },
  {
   "cell_type": "code",
   "execution_count": 9,
   "id": "deab72e8-80d7-467c-a9a4-6e856c84dfa1",
   "metadata": {},
   "outputs": [
    {
     "name": "stdout",
     "output_type": "stream",
     "text": [
      "Requirement already satisfied: opencv-contrib-python==3.4.11.45 in c:\\users\\shiva\\miniconda3\\lib\\site-packages (3.4.11.45)\n",
      "Requirement already satisfied: numpy>=1.19.3 in c:\\users\\shiva\\miniconda3\\lib\\site-packages (from opencv-contrib-python==3.4.11.45) (1.21.0)\n"
     ]
    }
   ],
   "source": [
    "!pip install opencv-contrib-python==3.4.11.45"
   ]
  },
  {
   "cell_type": "markdown",
   "id": "5cfca7ac-c9e7-4255-9217-c345bae5d60a",
   "metadata": {},
   "source": [
    "Importing libraries"
   ]
  },
  {
   "cell_type": "code",
   "execution_count": 13,
   "id": "17bd21c8-fd6e-4885-81eb-6832607ab2ab",
   "metadata": {},
   "outputs": [],
   "source": [
    "import os\n",
    "import cv2\n",
    "import matplotlib.pyplot as plt\n",
    "import re\n",
    "from sklearn.cluster import DBSCAN  # For DBSCAN\n",
    "import numpy as np\n",
    "%matplotlib inline"
   ]
  },
  {
   "cell_type": "markdown",
   "id": "59e70764-5578-440c-8174-1a9edffc1111",
   "metadata": {},
   "source": [
    "Creating an array of the paths of the images in the dataset folder (MICC-F220)"
   ]
  },
  {
   "cell_type": "code",
   "execution_count": 14,
   "id": "f7eac644-b798-4584-902a-b7fda8ac9ab6",
   "metadata": {},
   "outputs": [],
   "source": [
    "image_paths=[] #List to store path of all images\n",
    "\n",
    "for dirname, _, filenames in os.walk('./MICC-F220'):\n",
    "    for filename in filenames:\n",
    "        if '.txt' in filename:\n",
    "            continue\n",
    "        image_paths.append(os.path.join(dirname, filename))"
   ]
  },
  {
   "cell_type": "markdown",
   "id": "76623347-5a42-4ccd-83bf-0601d6e758c9",
   "metadata": {},
   "source": [
    "Dividing the dataset into original and tampered sets"
   ]
  },
  {
   "cell_type": "code",
   "execution_count": 15,
   "id": "69ff83d1-e775-4d5c-ab9a-5f689dc574ef",
   "metadata": {},
   "outputs": [
    {
     "name": "stdout",
     "output_type": "stream",
     "text": [
      "110 110\n"
     ]
    }
   ],
   "source": [
    "original_images=[]\n",
    "tampered_images=[]\n",
    "\n",
    "for path in image_paths:\n",
    "    \n",
    "    if 'tamp' in path:              # As Observed from the above list tampered images name has tamp\n",
    "        tampered_images.append(path)\n",
    "    else:\n",
    "        original_images.append(path)\n",
    "tampered_images.sort()\n",
    "original_images.sort()\n",
    "print(len(original_images),len(tampered_images))"
   ]
  },
  {
   "cell_type": "markdown",
   "id": "a480a776-d3d5-4d86-82c0-255b6817aead",
   "metadata": {},
   "source": [
    "### Helper Functions\n",
    "\n",
    "* **plot_image(img,size=(30,30))**: For plotting image.\n",
    "* **siftDetector(img)**: For extracting SIFT features and descriptors.\n",
    "* **get_original(tampered)**: Give the index of original image with the original image from the name of tampered image if present otherwise return -1.\n",
    "* **show_sift_features(color_img, kp,size=(30,30),flag=None)**:  It marks the extracted features on the image and parameters are the image itself, kp are the SIFT keypoints and."
   ]
  },
  {
   "cell_type": "code",
   "execution_count": null,
   "id": "c146c15f-dab3-4f06-8ece-2b2e9aed85c6",
   "metadata": {},
   "outputs": [],
   "source": [
    "def plot_image(img,size=(8,8)):\n",
    "    plt.figure(figsize = size)\n",
    "    plt.imshow(cv2.cvtColor(img,cv2.COLOR_BGR2RGB)) #Since opencv store images as BGR\n",
    "\n",
    "def siftDetector(img):\n",
    "    sift = cv2.xfeatures2d.SIFT_create()\n",
    "    gray= cv2.cvtColor(img,cv2.COLOR_BGR2GRAY) \n",
    "    key_points, descriptors = sift.detectAndCompute(gray, None)\n",
    "    return key_points,descriptors\n",
    "\n",
    "def get_original(tampered):\n",
    "    name=re.findall(r'.*/(.*)tamp.*',tampered)\n",
    "    original_index=-1\n",
    "    if len(name)<1:\n",
    "        return -1\n",
    "    for index,names in enumerate(original_images):\n",
    "        if name[0] in names:\n",
    "            original_index=index\n",
    "            break\n",
    "            \n",
    "    if original_index==-1:\n",
    "        return original_index,-1\n",
    "    else:\n",
    "        image=cv2.imread(original_images[original_index])\n",
    "        return image,original_index\n",
    "\n",
    "def show_sift_features(color_img, kp,size=(8,8)):\n",
    "    gray_img=cv2.cvtColor(color_img,cv2.COLOR_BGR2GRAY)\n",
    "    plt.figure(figsize = size)\n",
    "    plt.imshow(cv2.drawKeypoints(gray_img, kp, color_img.copy()))"
   ]
  },
  {
   "cell_type": "markdown",
   "id": "a2cb0096-3706-4ebb-bb0f-12d795ac2a9a",
   "metadata": {},
   "source": [
    "aaaa"
   ]
  },
  {
   "cell_type": "code",
   "execution_count": null,
   "id": "6de0ed69-dafc-4892-89f2-b73d82d4c6e4",
   "metadata": {},
   "outputs": [],
   "source": [
    "tampered1=cv2.imread(tampered_images[0])\n",
    "plot_image(tampered1)"
   ]
  },
  {
   "cell_type": "markdown",
   "id": "df79235d-495f-4f96-bdca-41094d8e8a9b",
   "metadata": {},
   "source": [
    "aaaa"
   ]
  },
  {
   "cell_type": "code",
   "execution_count": null,
   "id": "a8628208-0d42-4895-a068-ef1c9b512603",
   "metadata": {},
   "outputs": [],
   "source": [
    "original1 , index=get_original(tampered_images[0])\n",
    "if index!=-1:\n",
    "    plot_image(original1)"
   ]
  },
  {
   "cell_type": "markdown",
   "id": "ee4f6fd4-bec9-4371-91cc-f3784b45eb08",
   "metadata": {},
   "source": [
    "## DBSCAN Clustering\n",
    "It is a density-based clustering non-parametric algorithm: given a set of points in some space, it groups together points that are closely packed together (points with many nearby neighbors), marking as outliers points that lie alone in low-density regions (whose nearest neighbors are too far away).\n",
    "The DBSCAN algorithm basically requires 2 parameters:\n",
    "* **eps:** specifies how close points should be to each other to be considered a part of a cluster. It means that if the distance between two points is lower or equal to this value (eps), these points are considered neighbors.\n",
    "* **minPoints:** the minimum number of points to form a dense region. For example, if we set the minPoints parameter as 5, then we need at least 5 points to form a dense region.\n",
    "\n",
    "Now, I have defined two functions for making clusters and detection of forgery using those clusters.\n",
    "* make_clusters(de,eps,min_sample): This function will perform DBSCAN clustering and the role of parameters (eps,min_sample) is described above, it take another parameter which is de which is basically SIFT descriptor of the image.\n",
    "* locate_forgery(img,clustering,kps): This function takes the image clusters made and the SIFT keypoints to mark the forgery on the image. It does so by drawing lines between points classified into the same clusters.\n"
   ]
  },
  {
   "cell_type": "code",
   "execution_count": null,
   "id": "7613d80c-863d-4091-909c-20736289ec19",
   "metadata": {},
   "outputs": [],
   "source": [
    "def make_clusters(de,eps=40,min_sample=2):\n",
    "    clustering = DBSCAN(eps=eps, min_samples=min_sample).fit(de)\n",
    "    return clustering\n",
    "\n",
    "def locate_forgery(img,clustering,kps):\n",
    "    forgery=img.copy()\n",
    "    clusters = [[] for i in range(np.unique(clustering.labels_).shape[0]-1)]\n",
    "    for idx in range(len(kps)):\n",
    "        if clustering.labels_[idx]!=-1:\n",
    "            clusters[clustering.labels_[idx]].append((int(kps[idx].pt[0]),int(kps[idx].pt[1])))\n",
    "    for points in clusters:\n",
    "        if len(points)>1:\n",
    "            for idx1 in range(len(points)):\n",
    "                for idx2 in range(idx1+1,len(points)):\n",
    "                    cv2.line(forgery,points[idx2],points[idx1],(255,0,0),5)\n",
    "    plot_image(forgery)"
   ]
  },
  {
   "cell_type": "markdown",
   "id": "309b7f1f-e5fb-485c-8954-b5c81387fb2c",
   "metadata": {},
   "source": [
    "Let's check if we are able to detect forgery."
   ]
  },
  {
   "cell_type": "code",
   "execution_count": null,
   "id": "7f224cc7-b81d-4eaf-ba61-5122b7d10842",
   "metadata": {},
   "outputs": [],
   "source": [
    "#Firs let us extract SIFT features\n",
    "key_points,descriptors=siftDetector(tampered1)\n",
    "show_sift_features(tampered1,key_points)"
   ]
  },
  {
   "cell_type": "code",
   "execution_count": null,
   "id": "1d8ebc18-cf69-4d4b-bc3d-9956132721f3",
   "metadata": {},
   "outputs": [],
   "source": [
    "Make cluster and locate forgery"
   ]
  },
  {
   "cell_type": "code",
   "execution_count": null,
   "id": "8de4e84b-7842-4730-b55a-c4447ef35189",
   "metadata": {},
   "outputs": [],
   "source": [
    "#Now Let's make clusters and locate forgery\n",
    "\n",
    "clusters=make_clusters(descriptors)\n",
    "locate_forgery(tampered1,clusters,key_points)"
   ]
  },
  {
   "cell_type": "markdown",
   "id": "1bd4c764-08f3-4be3-8854-202791d8c76d",
   "metadata": {},
   "source": [
    "## Why this approach works?\n",
    "This approach works well because of the scale invariance nature of SIFT and the clustering power of the DBSCAN algorithm.\n",
    "\n",
    "Since the extracted features of the forged region should be similar to that of the original region so it is highly probable that they will be very close in the feature space and thus will be clustered together and this is the idea behind the above implementation.\n"
   ]
  },
  {
   "cell_type": "markdown",
   "id": "34425974-e3eb-4d48-b93a-35cf3806b618",
   "metadata": {},
   "source": [
    "### Some other examples and the role of eps"
   ]
  },
  {
   "cell_type": "code",
   "execution_count": null,
   "id": "ccbfcb12-3213-491d-98da-58f3e060f8d3",
   "metadata": {},
   "outputs": [],
   "source": [
    "tampered=cv2.imread(tampered_images[20])\n",
    "key_points,descriptors=siftDetector(tampered)\n",
    "clusters=make_clusters(descriptors)\n",
    "locate_forgery(tampered,clusters,key_points)\n",
    "\n",
    "# Change Eps parameter to mark more/less features\n",
    "clusters=make_clusters(descriptors,eps=80)\n",
    "locate_forgery(tampered,clusters,key_points)"
   ]
  },
  {
   "cell_type": "code",
   "execution_count": null,
   "id": "505c5a9f-45cb-461f-b718-e38c2f39c3b4",
   "metadata": {},
   "outputs": [],
   "source": [
    "tampered=cv2.imread(tampered_images[50])\n",
    "key_points,descriptors=siftDetector(tampered)\n",
    "clusters=make_clusters(descriptors)\n",
    "locate_forgery(tampered,clusters,key_points)\n",
    "\n",
    "# Change Eps parameter to mark more/less features\n",
    "clusters=make_clusters(descriptors,eps=80)\n",
    "locate_forgery(tampered,clusters,key_points)"
   ]
  }
 ],
 "metadata": {
  "kernelspec": {
   "display_name": "Python 3 (ipykernel)",
   "language": "python",
   "name": "python3"
  },
  "language_info": {
   "codemirror_mode": {
    "name": "ipython",
    "version": 3
   },
   "file_extension": ".py",
   "mimetype": "text/x-python",
   "name": "python",
   "nbconvert_exporter": "python",
   "pygments_lexer": "ipython3",
   "version": "3.9.1"
  }
 },
 "nbformat": 4,
 "nbformat_minor": 5
}
